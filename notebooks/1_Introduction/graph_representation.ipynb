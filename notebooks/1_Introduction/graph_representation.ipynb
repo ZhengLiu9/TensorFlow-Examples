{
 "cells": [
  {
   "cell_type": "code",
   "execution_count": 1,
   "metadata": {
    "collapsed": true
   },
   "outputs": [],
   "source": [
    "# Author: Zheng Liu\n",
    "# Date: Feb 15, 2019"
   ]
  },
  {
   "cell_type": "code",
   "execution_count": 2,
   "metadata": {
    "collapsed": true
   },
   "outputs": [],
   "source": [
    "from __future__ import print_function"
   ]
  },
  {
   "cell_type": "markdown",
   "metadata": {},
   "source": [
    "# 1. Deep learning as an optimization problem.\n",
    "### 1.1 Optimization problem\n",
    "An optimization problem is defined as follows:\n",
    "  * Inputs (a.k.a. features): $X = \\{\\vec{x_1}, \\vec{x_2}, \\vec{x_3}, ...\\}$\n",
    "  * Outputs (a.k.a. labels): $Y = \\{y_1, y_2, y_3\\}$\n",
    "  * Goal: find a function $f$, so that $f(\\vec{x_i})$ is close to $y_i$\n",
    "  * How to define closeness? Use loss functions, such as mean squared loss (for regression), cross entropy (for classification).\n",
    "  * How to find the function $f$? Use optimization algorithms, such as gradient descent, coordinate descent, Adam, etc.\n",
    "  \n",
    "For most deep learning tasks and some of the machine learning tasks, the problem can be abstracted as an optimization problem. *TensorFlow* is developed as a generic library to solve this optimization problem. Here are key facts for *Tensorflow*:\n",
    "  * Represent the optimization problem as a __graph__.\n",
    "  * *Session* is the enviornment where the optimization problem is solved inside *TensorFlow*.\n",
    "  * All the variables inside the graph can not be accessed directly. Instead, you need to access them through *Session*, such as \n",
    "  `session.run()` and `a.eval(session=session)`\n",
    "\n",
    "### 1.2 Graph illustration\n",
    "\n",
    "![Image of tensorflow graph](./graph_illustration.PNG)\n",
    "\n",
    "### 1.3 Why is *TensorFlow* designed like this?\n",
    "The developers' explanation: for the seek of Parallelism, Distributed execution, Compilation, and Portability. \n",
    "\n",
    "\n",
    "See detais here: https://www.tensorflow.org/guide/graphs\n",
    "\n",
    "\n",
    "### 1.4 Basic data types in TensorFlow:\n",
    "In TensorFLow, all the scalers, vectors, and matrices are represented as the [`tf.Tensor`](https://www.tensorflow.org/guide/tensors) object. The major tensor types are:\n",
    "\n",
    "* [tf.Variable](https://www.tensorflow.org/api_docs/python/tf/Variable): used to specify weights/learnable paramters\n",
    "* [tf.constant](https://www.tensorflow.org/api_docs/python/tf/constant): used to specify global paramter settings\n",
    "* [tf.placeholder](https://www.tensorflow.org/api_docs/python/tf/placeholder): used to specify input features and labels"
   ]
  },
  {
   "cell_type": "markdown",
   "metadata": {},
   "source": [
    "# 2. *Session* in *TensorFlow*\n",
    "  * Regular session\n",
    "  * Interactive session\n",
    "  * Eager operation"
   ]
  },
  {
   "cell_type": "markdown",
   "metadata": {},
   "source": [
    "## 2.1. Regular session"
   ]
  },
  {
   "cell_type": "code",
   "execution_count": 3,
   "metadata": {
    "collapsed": true
   },
   "outputs": [],
   "source": [
    "import tensorflow as tf"
   ]
  },
  {
   "cell_type": "code",
   "execution_count": 4,
   "metadata": {
    "collapsed": true
   },
   "outputs": [],
   "source": [
    "# define the graph\n",
    "a = tf.constant(1)\n",
    "b = tf.constant(2)\n",
    "c = a + b"
   ]
  },
  {
   "cell_type": "code",
   "execution_count": 5,
   "metadata": {
    "collapsed": false
   },
   "outputs": [
    {
     "data": {
      "text/plain": [
       "<tf.Tensor 'add:0' shape=() dtype=int32>"
      ]
     },
     "execution_count": 5,
     "metadata": {},
     "output_type": "execute_result"
    }
   ],
   "source": [
    "c"
   ]
  },
  {
   "cell_type": "markdown",
   "metadata": {},
   "source": [
    "### 2.1.1 Method one"
   ]
  },
  {
   "cell_type": "code",
   "execution_count": 6,
   "metadata": {
    "collapsed": false
   },
   "outputs": [
    {
     "name": "stdout",
     "output_type": "stream",
     "text": [
      "The output of \"c.eval\" is  3\n",
      "The output of \"sess.run\" is  3\n"
     ]
    }
   ],
   "source": [
    "# initializa a session\n",
    "sess = tf.Session()\n",
    "# calculate\n",
    "# you can use 'eval' to get values\n",
    "c_output_1 = c.eval(session=sess)\n",
    "# or, you can use 'sess.run' to get values\n",
    "c_output_2 = sess.run(c)\n",
    "print('The output of \"c.eval\" is ', c_output_1)\n",
    "print('The output of \"sess.run\" is ', c_output_2)\n",
    "# close the session\n",
    "sess.close()"
   ]
  },
  {
   "cell_type": "markdown",
   "metadata": {
    "collapsed": false
   },
   "source": [
    "### 2.1.2 Method two"
   ]
  },
  {
   "cell_type": "code",
   "execution_count": 7,
   "metadata": {
    "collapsed": false
   },
   "outputs": [
    {
     "name": "stdout",
     "output_type": "stream",
     "text": [
      "The output of \"c.eval\" is  3\n",
      "The output of \"sess.run\" is  3\n"
     ]
    }
   ],
   "source": [
    "# The following format is more elegent. The 'sess' object is initialized by 'with' statement and closed automatically.\n",
    "with tf.Session() as sess:\n",
    "    c_output_1 = c.eval(session=sess) \n",
    "    c_output_2 = sess.run(c)\n",
    "    print('The output of \"c.eval\" is ', c_output_1)\n",
    "    print('The output of \"sess.run\" is ', c_output_2)"
   ]
  },
  {
   "cell_type": "markdown",
   "metadata": {},
   "source": [
    "## 2.2 Interactive Session"
   ]
  },
  {
   "cell_type": "markdown",
   "metadata": {},
   "source": [
    "People are lazy. They don't want to specify the 'session' parameter inside `c.eval()` everytime. As a result, the *interactive session* is developed to help people writing codes."
   ]
  },
  {
   "cell_type": "code",
   "execution_count": 8,
   "metadata": {
    "collapsed": false
   },
   "outputs": [
    {
     "name": "stdout",
     "output_type": "stream",
     "text": [
      "The output of \"c.eval\" is  3\n"
     ]
    }
   ],
   "source": [
    "sess_int = tf.InteractiveSession()\n",
    "c_output = c.eval() # <-- Here we don't have to pass sess_int.\n",
    "print('The output of \"c.eval\" is ', c_output)\n",
    "sess_int.close()"
   ]
  },
  {
   "cell_type": "markdown",
   "metadata": {},
   "source": [
    "Note that a regular session installs itself as the default session when it is created in a `with` statement. The common usage in non-interactive programs is to follow that pattern:"
   ]
  },
  {
   "cell_type": "code",
   "execution_count": 9,
   "metadata": {
    "collapsed": false
   },
   "outputs": [
    {
     "name": "stdout",
     "output_type": "stream",
     "text": [
      "The output of \"c.eval\" is  3\n"
     ]
    }
   ],
   "source": [
    "with tf.Session() as sess:\n",
    "    c_output = c.eval() # <-- Here we don't have to pass sess_int.\n",
    "    print('The output of \"c.eval\" is ', c_output)"
   ]
  },
  {
   "cell_type": "markdown",
   "metadata": {},
   "source": [
    "## 2.3 Eager operation"
   ]
  },
  {
   "cell_type": "markdown",
   "metadata": {},
   "source": [
    "People are more familiar with the coding style of `numpy` and `Python`. They want to use *Tensorflow* as if they were using `numpy`, e.g. they don't want to know anything about *Session* and just want to run the commands."
   ]
  },
  {
   "cell_type": "code",
   "execution_count": 1,
   "metadata": {
    "collapsed": false
   },
   "outputs": [],
   "source": [
    "import tensorflow as tf\n",
    "tf.enable_eager_execution()\n",
    "tfe = tf.contrib.eager"
   ]
  },
  {
   "cell_type": "code",
   "execution_count": 11,
   "metadata": {
    "collapsed": false
   },
   "outputs": [
    {
     "name": "stdout",
     "output_type": "stream",
     "text": [
      "calculated c is 3\n"
     ]
    }
   ],
   "source": [
    "a = tf.constant(1)\n",
    "b = tf.constant(2)\n",
    "c = a + b\n",
    "print(\"calculated c is %i\" % c)"
   ]
  }
 ],
 "metadata": {
  "kernelspec": {
   "display_name": "Python 2",
   "language": "python",
   "name": "python2"
  },
  "language_info": {
   "codemirror_mode": {
    "name": "ipython",
    "version": 2
   },
   "file_extension": ".py",
   "mimetype": "text/x-python",
   "name": "python",
   "nbconvert_exporter": "python",
   "pygments_lexer": "ipython2",
   "version": "2.7.6"
  }
 },
 "nbformat": 4,
 "nbformat_minor": 2
}
