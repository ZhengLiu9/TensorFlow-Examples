{
 "cells": [
  {
   "cell_type": "markdown",
   "metadata": {},
   "source": [
    "# Neural Network Example\n",
    "\n",
    "Build a 2-hidden layers fully connected neural network (a.k.a multilayer perceptron) and a 2 layer-CNN with TensorFlow.\n",
    "\n",
    "- Author: Zheng Liu"
   ]
  },
  {
   "cell_type": "markdown",
   "metadata": {},
   "source": [
    "## Neural Network Overview\n",
    "\n",
    "<img src=\"http://cs231n.github.io/assets/nn1/neural_net2.jpeg\" alt=\"nn\" style=\"width: 400px;\"/>\n",
    "\n",
    "## MNIST Dataset Overview\n",
    "\n",
    "This example is using MNIST handwritten digits. The dataset contains 60,000 examples for training and 10,000 examples for testing. The digits have been size-normalized and centered in a fixed-size image (28x28 pixels) with values from 0 to 1. For simplicity, each image has been flattened and converted to a 1-D numpy array of 784 features (28*28).\n",
    "\n",
    "![MNIST Dataset](http://neuralnetworksanddeeplearning.com/images/mnist_100_digits.png)\n",
    "\n",
    "More info: http://yann.lecun.com/exdb/mnist/"
   ]
  },
  {
   "cell_type": "code",
   "execution_count": null,
   "metadata": {
    "collapsed": false
   },
   "outputs": [],
   "source": [
    "from __future__ import print_function\n",
    "\n",
    "# Import MNIST data\n",
    "from tensorflow.examples.tutorials.mnist import input_data\n",
    "mnist = input_data.read_data_sets(\"/tmp/data/\", one_hot=True)\n",
    "\n",
    "import tensorflow as tf"
   ]
  },
  {
   "cell_type": "code",
   "execution_count": null,
   "metadata": {
    "collapsed": false
   },
   "outputs": [],
   "source": [
    "# Parameters\n",
    "num_steps = 500\n",
    "batch_size = 128\n",
    "display_step = 100\n",
    "\n",
    "# Network Parameters\n",
    "n_hidden_1 = 256 # 1st layer number of neurons\n",
    "n_hidden_2 = 64 # 2nd layer number of neurons\n",
    "num_input = 784 # MNIST data input (img shape: 28*28)\n",
    "num_classes = 10 # MNIST total classes (0-9 digits)\n",
    "\n",
    "# tf Graph input\n",
    "X = tf.placeholder(\"float\", [None, num_input])\n",
    "Y = tf.placeholder(\"float\", [None, num_classes])"
   ]
  },
  {
   "cell_type": "code",
   "execution_count": null,
   "metadata": {
    "collapsed": true
   },
   "outputs": [],
   "source": [
    "# Create model\n",
    "def neural_net_raw(x):\n",
    "    # layers weight & bias\n",
    "    w1 = tf.Variable(tf.random_normal([num_input, n_hidden_1]))\n",
    "    w2 = tf.Variable(tf.random_normal([n_hidden_1, n_hidden_2]))\n",
    "    w_out = tf.Variable(tf.random_normal([n_hidden_2, num_classes]))\n",
    "    b1 = tf.Variable(tf.random_normal([n_hidden_1]))\n",
    "    b2 = tf.Variable(tf.random_normal([n_hidden_2]))\n",
    "    b_out = tf.Variable(tf.random_normal([num_classes]))\n",
    "    \n",
    "    # start to build the network (note: this network doesn't have activation layers)\n",
    "    ly1 = tf.add(tf.matmul(x, w1), b1)\n",
    "    ly2 = tf.add(tf.matmul(ly1, w2), b2)\n",
    "    out_layer = tf.matmul(ly2, w_out) + b_out\n",
    "    return out_layer"
   ]
  },
  {
   "cell_type": "code",
   "execution_count": null,
   "metadata": {
    "collapsed": true
   },
   "outputs": [],
   "source": [
    "def neural_net_easy(x):\n",
    "    # start to build the network (note: this network doesn't have activation layers)\n",
    "    ly1 = tf.layers.dense(x, n_hidden_1)\n",
    "    ly2 = tf.layers.dense(ly1, n_hidden_2)\n",
    "    out_layer = tf.layers.dense(ly2, num_classes)\n",
    "    return out_layer"
   ]
  },
  {
   "cell_type": "code",
   "execution_count": null,
   "metadata": {
    "collapsed": true
   },
   "outputs": [],
   "source": [
    "def neural_net_cnn(x):\n",
    "    # MNIST data input is a 1-D vector of 784 features (28*28 pixels)\n",
    "    # Reshape to match picture format [Height x Width x Channel]\n",
    "    # Tensor input become 4-D: [Batch Size, Height, Width, Channel]\n",
    "    x = tf.reshape(x, shape=[-1, 28, 28, 1])\n",
    "    \n",
    "    # first layer\n",
    "    conv1 = tf.layers.conv2d(inputs = x, filters = 16, kernel_size = 2, strides = 1, activation = tf.nn.relu)\n",
    "    pool1 = tf.layers.max_pooling2d(inputs = conv1, pool_size = 2, strides = 2)\n",
    "    # second layer\n",
    "    conv2 = tf.layers.conv2d(inputs = pool1, filters = 16, kernel_size = 2, strides = 1, activation = tf.nn.relu)\n",
    "    pool2 = tf.layers.max_pooling2d(inputs = conv2, pool_size = 2, strides = 2)\n",
    "    # output layer\n",
    "    fc1 = tf.contrib.layers.flatten(pool2)\n",
    "    out_layer = tf.layers.dense(fc1, num_classes)\n",
    "    \n",
    "    return out_layer"
   ]
  },
  {
   "cell_type": "code",
   "execution_count": null,
   "metadata": {
    "collapsed": false
   },
   "outputs": [],
   "source": [
    "# Construct model\n",
    "#prediction = neural_net_raw(X)\n",
    "#prediction = neural_net_easy(X)\n",
    "prediction = neural_net_cnn(X)\n",
    "\n",
    "# Define loss and optimizer\n",
    "loss = tf.reduce_mean(tf.nn.softmax_cross_entropy_with_logits_v2(logits=prediction, labels=Y))\n",
    "optimizer = tf.train.AdamOptimizer()\n",
    "train = optimizer.minimize(loss)\n",
    "\n",
    "# Evaluate model (uses prediction accuracy)\n",
    "correct_pred = tf.equal(tf.argmax(prediction, 1), tf.argmax(Y, 1))\n",
    "accuracy = tf.reduce_mean(tf.cast(correct_pred, tf.float32))"
   ]
  },
  {
   "cell_type": "code",
   "execution_count": null,
   "metadata": {
    "collapsed": false
   },
   "outputs": [],
   "source": [
    "# Initialize the variables (i.e. assign their default value)\n",
    "init = tf.global_variables_initializer()\n",
    "\n",
    "# Start training\n",
    "with tf.Session() as sess:\n",
    "\n",
    "    # Run the initializer\n",
    "    sess.run(init)\n",
    "\n",
    "    for step in range(num_steps):\n",
    "        batch_x, batch_y = mnist.train.next_batch(batch_size)\n",
    "        # Run optimization op (backprop)\n",
    "        sess.run(train, feed_dict={X: batch_x, Y: batch_y})\n",
    "        if step % display_step == 0 or step == 1:\n",
    "            # Calculate batch loss and accuracy\n",
    "            current_loss, acc = sess.run([loss, accuracy], feed_dict={X: batch_x,\n",
    "                                                                 Y: batch_y})\n",
    "            print(\"Step \" + str(step) + \", Minibatch Loss= \" + \\\n",
    "                  \"{:.4f}\".format(current_loss) + \", Training Accuracy= \" + \\\n",
    "                  \"{:.3f}\".format(acc))\n",
    "\n",
    "    print(\"Optimization Finished!\")\n",
    "\n",
    "    # Calculate accuracy for MNIST test images\n",
    "    print(\"Testing Accuracy:\", \\\n",
    "        sess.run(accuracy, feed_dict={X: mnist.test.images,\n",
    "                                      Y: mnist.test.labels}))"
   ]
  },
  {
   "cell_type": "code",
   "execution_count": null,
   "metadata": {
    "collapsed": false
   },
   "outputs": [],
   "source": [
    "total_parameters = 0\n",
    "#iterating over all variables\n",
    "for variable in tf.trainable_variables():  \n",
    "    local_parameters=1\n",
    "    shape = variable.get_shape()  #getting shape of a variable\n",
    "    for i in shape:\n",
    "        local_parameters*=i.value  #mutiplying dimension values\n",
    "    total_parameters+=local_parameters\n",
    "print(total_parameters) "
   ]
  },
  {
   "cell_type": "markdown",
   "metadata": {},
   "source": [
    "# Training results"
   ]
  },
  {
   "cell_type": "markdown",
   "metadata": {},
   "source": [
    "neural_net_raw:\n",
    "- testing accuracy: 0.8426\n",
    "- number of parameters: 218.06k\n",
    "\n",
    "neural_net_easy:\n",
    "- testing accuracy: 0.0.9154\n",
    "- number of parameters: 218.06k\n",
    "\n",
    "neural_net_cnn:\n",
    "- testing accuracy:0.9516\n",
    "- number of parameters: 6.89k\n",
    "    \n",
    "\n"
   ]
  },
  {
   "cell_type": "code",
   "execution_count": null,
   "metadata": {
    "collapsed": true
   },
   "outputs": [],
   "source": []
  }
 ],
 "metadata": {
  "kernelspec": {
   "display_name": "Python 2",
   "language": "python",
   "name": "python2"
  },
  "language_info": {
   "codemirror_mode": {
    "name": "ipython",
    "version": 2
   },
   "file_extension": ".py",
   "mimetype": "text/x-python",
   "name": "python",
   "nbconvert_exporter": "python",
   "pygments_lexer": "ipython2",
   "version": "2.7.6"
  }
 },
 "nbformat": 4,
 "nbformat_minor": 2
}
