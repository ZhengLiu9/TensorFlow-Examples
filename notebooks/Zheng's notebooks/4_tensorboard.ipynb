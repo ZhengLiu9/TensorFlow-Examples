{
 "cells": [
  {
   "cell_type": "markdown",
   "metadata": {},
   "source": [
    "Author: Zheng Liu\n",
    "\n",
    "In this notebook, we focus on\n",
    "- model saving/loading [(link)](https://www.tensorflow.org/api_docs/python/tf/train/Saver): save and load training progresses\n",
    "- Tensorboard [(link)](https://www.tensorflow.org/guide/summaries_and_tensorboard): monitor training progress in real time\n",
    "\n",
    "To use tensorboard, port forwarding setups are needed (similar to ipytho notebook). Once port forwarding is configured, we can run the following command in terminal to start tensorboard:\n",
    "\n",
    "`tensorboard --logdir DIR_NAME --port=PORT_NUMBER`"
   ]
  },
  {
   "cell_type": "code",
   "execution_count": null,
   "metadata": {
    "collapsed": false
   },
   "outputs": [],
   "source": [
    "from __future__ import print_function\n",
    "\n",
    "# Import MNIST data\n",
    "from tensorflow.examples.tutorials.mnist import input_data\n",
    "mnist = input_data.read_data_sets(\"/tmp/data/\", one_hot=True)\n",
    "\n",
    "import tensorflow as tf"
   ]
  },
  {
   "cell_type": "code",
   "execution_count": null,
   "metadata": {
    "collapsed": true
   },
   "outputs": [],
   "source": [
    "# Parameters\n",
    "num_steps = 201\n",
    "batch_size = 128\n",
    "display_step = 100\n",
    "\n",
    "# Network Parameters\n",
    "n_hidden_1 = 256 # 1st layer number of neurons\n",
    "n_hidden_2 = 64 # 2nd layer number of neurons\n",
    "num_input = 784 # MNIST data input (img shape: 28*28)\n",
    "num_classes = 10 # MNIST total classes (0-9 digits)\n",
    "\n",
    "# tf Graph input\n",
    "X = tf.placeholder(\"float\", [None, num_input])\n",
    "Y = tf.placeholder(\"float\", [None, num_classes])"
   ]
  },
  {
   "cell_type": "code",
   "execution_count": null,
   "metadata": {
    "collapsed": true
   },
   "outputs": [],
   "source": [
    "def neural_net_cnn(x):\n",
    "    # MNIST data input is a 1-D vector of 784 features (28*28 pixels)\n",
    "    # Reshape to match picture format [Height x Width x Channel]\n",
    "    # Tensor input become 4-D: [Batch Size, Height, Width, Channel]\n",
    "    x = tf.reshape(x, shape=[-1, 28, 28, 1])\n",
    "    \n",
    "    # first layer\n",
    "    conv1 = tf.layers.conv2d(inputs = x, filters = 16, kernel_size = 2, strides = 1, activation = tf.nn.relu)\n",
    "    pool1 = tf.layers.max_pooling2d(inputs = conv1, pool_size = 2, strides = 2)\n",
    "    # second layer\n",
    "    conv2 = tf.layers.conv2d(inputs = pool1, filters = 16, kernel_size = 2, strides = 1, activation = tf.nn.relu)\n",
    "    pool2 = tf.layers.max_pooling2d(inputs = conv2, pool_size = 2, strides = 2)\n",
    "    # output layer\n",
    "    fc1 = tf.contrib.layers.flatten(pool2)\n",
    "    out_layer = tf.layers.dense(fc1, num_classes)\n",
    "    \n",
    "    return out_layer"
   ]
  },
  {
   "cell_type": "code",
   "execution_count": null,
   "metadata": {
    "collapsed": true
   },
   "outputs": [],
   "source": [
    "# Construct model\n",
    "prediction = neural_net_cnn(X)\n",
    "\n",
    "# Define loss and optimizer\n",
    "loss = tf.reduce_mean(tf.nn.softmax_cross_entropy_with_logits_v2(logits=prediction, labels=Y))\n",
    "optimizer = tf.train.AdamOptimizer()\n",
    "train = optimizer.minimize(loss)\n",
    "\n",
    "# Evaluate model (uses prediction accuracy)\n",
    "correct_pred = tf.equal(tf.argmax(prediction, 1), tf.argmax(Y, 1))\n",
    "accuracy = tf.reduce_mean(tf.cast(correct_pred, tf.float32))\n",
    "\n",
    "# Initializing tensorboard and summary object <----[Tensorboard] Define which metric to record\n",
    "tf.summary.scalar('accuracy', accuracy)\n",
    "tf.summary.scalar('loss', loss)\n",
    "merged_summary = tf.summary.merge_all()\n"
   ]
  },
  {
   "cell_type": "code",
   "execution_count": null,
   "metadata": {
    "collapsed": false
   },
   "outputs": [],
   "source": [
    "saver = tf.train.Saver([x for x in tf.global_variables()]) # <----[save/load] initialize saver object\n",
    "from_scratch=False\n",
    "\n",
    "# Start training\n",
    "with tf.Session() as sess:\n",
    "\n",
    "    if from_scratch==True:\n",
    "        sess.run(tf.global_variables_initializer())\n",
    "    else:\n",
    "        saver.restore(sess, './saved_model/cnn_model-200') # <----[save/load] loading previous trained model\n",
    "    \n",
    "    train_writer = tf.summary.FileWriter('./train_progress', sess.graph) # <----[Tensorboard] record the graph\n",
    "    \n",
    "    for step in range(num_steps):\n",
    "        batch_x, batch_y = mnist.train.next_batch(batch_size)\n",
    "        # Run optimization op (backprop)\n",
    "        training_progress, _ = sess.run([merged_summary,train], feed_dict={X: batch_x, Y: batch_y})\n",
    "        train_writer.add_summary(training_progress, step) # <----[Tensorboard] record training progress\n",
    "        if step%100==0:\n",
    "            saver.save(sess, './saved_model/cnn_model', global_step=step) # <----[save/load] saving model\n",
    "\n",
    "    print(\"Optimization Finished!\")\n",
    "    # Calculate accuracy for MNIST test images\n",
    "    print(\"Testing Accuracy:\", \\\n",
    "        sess.run(accuracy, feed_dict={X: mnist.test.images,\n",
    "                                      Y: mnist.test.labels}))"
   ]
  },
  {
   "cell_type": "code",
   "execution_count": null,
   "metadata": {
    "collapsed": true
   },
   "outputs": [],
   "source": []
  }
 ],
 "metadata": {
  "kernelspec": {
   "display_name": "Python 2",
   "language": "python",
   "name": "python2"
  },
  "language_info": {
   "codemirror_mode": {
    "name": "ipython",
    "version": 2
   },
   "file_extension": ".py",
   "mimetype": "text/x-python",
   "name": "python",
   "nbconvert_exporter": "python",
   "pygments_lexer": "ipython2",
   "version": "2.7.6"
  }
 },
 "nbformat": 4,
 "nbformat_minor": 2
}
